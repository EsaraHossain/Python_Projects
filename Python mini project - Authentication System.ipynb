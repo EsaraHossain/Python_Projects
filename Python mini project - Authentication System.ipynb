{
 "cells": [
  {
   "cell_type": "code",
   "execution_count": null,
   "id": "smoking-genesis",
   "metadata": {},
   "outputs": [],
   "source": [
    "## Authentication System\n",
    "# SignUp\n",
    "# SignIn\n",
    "# local Python Database"
   ]
  },
  {
   "cell_type": "markdown",
   "id": "modified-indonesian",
   "metadata": {},
   "source": [
    "- Local Python Database\n",
    "    - List/Tuple/Dictionary/Set\n",
    "    \n",
    "- SignUp System\n",
    "    - Based on username and Password\n",
    "        - Confirm Password (Enter password 2-times)\n",
    "        - username Suggestion\n",
    "    - Check Password Strength\n",
    "    - Phone Number\n",
    "        - Phone Number Verification based on OTP\n",
    "    - Forgot Password\n",
    "        - Security Question\n",
    "        - Mobile OTP\n",
    "    - TFA (Two - Factor Authentication)\n",
    "        - based on Password and mobile OTP\n",
    "    \n",
    "- SignIn System\n",
    "    - Based on Username and Password\n",
    "    - Change Password\n",
    "        - Security Question\n",
    "        - Mobile OTP"
   ]
  },
  {
   "cell_type": "code",
   "execution_count": null,
   "id": "comfortable-checklist",
   "metadata": {},
   "outputs": [],
   "source": [
    "d = {'admin':'Qwerty@123'}\n",
    "dmob = {'admin':'90000000'}"
   ]
  },
  {
   "cell_type": "code",
   "execution_count": null,
   "id": "statistical-senator",
   "metadata": {},
   "outputs": [],
   "source": [
    "def checkPasswordStrength(password):\n",
    "    return True"
   ]
  },
  {
   "cell_type": "code",
   "execution_count": null,
   "id": "together-sending",
   "metadata": {},
   "outputs": [],
   "source": [
    "def confirmPassword(password):\n",
    "    return True"
   ]
  },
  {
   "cell_type": "code",
   "execution_count": null,
   "id": "correct-reminder",
   "metadata": {},
   "outputs": [],
   "source": [
    "def generateOTP():\n",
    "    otp = '852741'\n",
    "    return otp"
   ]
  },
  {
   "cell_type": "code",
   "execution_count": null,
   "id": "common-trash",
   "metadata": {},
   "outputs": [],
   "source": [
    "def sendOTP(number):\n",
    "    otp = generateOTP()\n",
    "    receivedOTP = input('Enter received OTP: ')\n",
    "    if otp == receivedOTP:\n",
    "        return True"
   ]
  },
  {
   "cell_type": "code",
   "execution_count": null,
   "id": "palestinian-income",
   "metadata": {},
   "outputs": [],
   "source": [
    "def mobileNumber(username):\n",
    "    number = '123'\n",
    "    if sendOTP(number):\n",
    "        dmob[username] = number\n",
    "        return True"
   ]
  },
  {
   "cell_type": "code",
   "execution_count": null,
   "id": "static-costs",
   "metadata": {},
   "outputs": [],
   "source": [
    "def signUp():\n",
    "    print('Welcome to CareerCraft Signup Portal')\n",
    "    while True:\n",
    "        userUp = input('Enter a new username: ').lower()\n",
    "        if userUp == '0':\n",
    "            return 'Failed'\n",
    "        \n",
    "        elif userUp not in d:\n",
    "            passUp = input('Enter a strong Password: ')\n",
    "            checkPasswordStrength(passUp)\n",
    "            confirmPassword(passUp)\n",
    "            mobileNumber(userUp)\n",
    "            d[userUp] = passUp    \n",
    "            return 'Successful'\n",
    "        \n",
    "        else:\n",
    "            print('''Username already exists.\n",
    "            Press 0 to Exit or\n",
    "            Try again\n",
    "            ''')\n",
    "            \n",
    "signUp()"
   ]
  },
  {
   "cell_type": "code",
   "execution_count": null,
   "id": "superior-translator",
   "metadata": {},
   "outputs": [],
   "source": [
    "def signIn():\n",
    "    pass"
   ]
  },
  {
   "cell_type": "code",
   "execution_count": null,
   "id": "resident-hobby",
   "metadata": {},
   "outputs": [],
   "source": [
    "def main():\n",
    "    print('Welcome to CareerCraft Web Portal')\n",
    "    while True: \n",
    "        mode = input('''Press 1 for SignUp Page\n",
    "        Press 2 for SignIn Page\n",
    "        Press 0 to Close Website\n",
    "        : ''')\n",
    "        if mode == '1':\n",
    "            print('SignUp', signUp())\n",
    "\n",
    "        elif mode == '2':\n",
    "            print('SignIn')\n",
    "            signIn()\n",
    "            \n",
    "        elif mode == '0':\n",
    "            print('Exiting')\n",
    "            return 'Closed'\n",
    "\n",
    "        else:\n",
    "            print('Invalid input')"
   ]
  },
  {
   "cell_type": "code",
   "execution_count": null,
   "id": "optional-cycle",
   "metadata": {},
   "outputs": [],
   "source": [
    "# activity status / Checkpoints"
   ]
  },
  {
   "cell_type": "code",
   "execution_count": null,
   "id": "forty-optics",
   "metadata": {},
   "outputs": [],
   "source": [
    "main()"
   ]
  },
  {
   "cell_type": "code",
   "execution_count": null,
   "id": "loose-singer",
   "metadata": {},
   "outputs": [],
   "source": [
    "d"
   ]
  },
  {
   "cell_type": "code",
   "execution_count": null,
   "id": "consecutive-environment",
   "metadata": {},
   "outputs": [],
   "source": [
    "dmob"
   ]
  },
  {
   "cell_type": "code",
   "execution_count": null,
   "id": "proved-vegetation",
   "metadata": {},
   "outputs": [],
   "source": []
  }
 ],
 "metadata": {
  "kernelspec": {
   "display_name": "Python 3 (ipykernel)",
   "language": "python",
   "name": "python3"
  },
  "language_info": {
   "codemirror_mode": {
    "name": "ipython",
    "version": 3
   },
   "file_extension": ".py",
   "mimetype": "text/x-python",
   "name": "python",
   "nbconvert_exporter": "python",
   "pygments_lexer": "ipython3",
   "version": "3.11.4"
  }
 },
 "nbformat": 4,
 "nbformat_minor": 5
}
